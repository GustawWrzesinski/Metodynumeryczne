{
 "cells": [
  {
   "cell_type": "code",
   "execution_count": null,
   "metadata": {},
   "outputs": [],
   "source": [
    "import matplotlib.pyplot as plt\n",
    "\n",
    "liczba = 1\n",
    "lop = 0\n",
    "print (\"Badana funkcja: f(x) = 3x^3 + 4x^2 -1\")\n",
    "a = -7\n",
    "b = 13\n",
    "while liczba != 3:\n",
    "\n",
    "    fa = 3 * a * a * a + 4 * a * a - 1\n",
    "    fb = 3 * b * b * b + 4 * b * b - 1\n",
    "    if fb * fa == 0:\n",
    "        if fa == 0:\n",
    "            print (a)\n",
    "            print (\"Jest miejscem zerowym\")\n",
    "            liczba = 3\n",
    "        if fb == 0:\n",
    "            print (b)\n",
    "            print (\" Jest miejscem zerowym\")\n",
    "            liczba = 3\n",
    "    x0 = a + (b-a)/2\n",
    "    fx0 = 3 * x0 * x0 * x0 + 4 * x0 * x0 - 1\n",
    "    if fx0 == 0:\n",
    "        print (x0)\n",
    "        print (\"Jest miejscem zerowym\")\n",
    "        liczba += 1\n",
    "    if fa * fx0 > 0:\n",
    "        a = x0\n",
    "    if fb * fx0 >0:\n",
    "        b = x0\n",
    "\n",
    "xw = -7\n",
    "y = []\n",
    "x = []\n",
    "while xw != 13:\n",
    "x.append(xw)\n",
    "y.append( 3 * xw * xw * xw + 4 * xw * xw - 1)\n",
    "print (\"wchodze\")\n",
    "\n",
    "fig = plt.figure()\n",
    "ax = fig.add_subplot(111)\n",
    "ax.plot(x, y, color='lightblue', linewidth=3)\n",
    "ax.scatter([xo, fxo, color='darkgreen', marker='^')\n",
    "ax.set_xlim(a, b)\n",
    "plt.show()\n",
    "        \n"
   ]
  },
  {
   "cell_type": "code",
   "execution_count": null,
   "metadata": {},
   "outputs": [],
   "source": []
  },
  {
   "cell_type": "code",
   "execution_count": null,
   "metadata": {},
   "outputs": [],
   "source": []
  },
  {
   "cell_type": "code",
   "execution_count": null,
   "metadata": {},
   "outputs": [],
   "source": []
  }
 ],
 "metadata": {
  "kernelspec": {
   "display_name": "Python 3",
   "language": "python",
   "name": "python3"
  },
  "language_info": {
   "codemirror_mode": {
    "name": "ipython",
    "version": 3
   },
   "file_extension": ".py",
   "mimetype": "text/x-python",
   "name": "python",
   "nbconvert_exporter": "python",
   "pygments_lexer": "ipython3",
   "version": "3.7.6"
  }
 },
 "nbformat": 4,
 "nbformat_minor": 4
}
