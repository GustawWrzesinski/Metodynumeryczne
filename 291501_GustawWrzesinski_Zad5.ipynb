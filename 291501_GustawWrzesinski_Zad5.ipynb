{
 "cells": [
  {
   "cell_type": "code",
   "execution_count": 99,
   "metadata": {},
   "outputs": [
    {
     "data": {
      "image/png": "[encoded data removed]",
      "text/plain": [
       "<Figure size 432x288 with 1 Axes>"
      ]
     },
     "metadata": {
      "needs_background": "light"
     },
     "output_type": "display_data"
    },
    {
     "data": {
      "image/png": "[encoded data removed]",
      "text/plain": [
       "<Figure size 432x288 with 1 Axes>"
      ]
     },
     "metadata": {
      "needs_background": "light"
     },
     "output_type": "display_data"
    },
    {
     "name": "stdout",
     "output_type": "stream",
     "text": [
      "Mcierz A:\n",
      "[[    5    15    55   225]\n",
      " [   15    55   225   979]\n",
      " [   55   225   979  4425]\n",
      " [  225   979  4425 20515]]\n",
      "----------------------------------------\n",
      "Mcierz B:\n",
      "[22, -63, -363, -1353]\n",
      "----------------------------------------\n",
      "wynik aproksymacji kodem własnym:\n",
      "[ 60.4          9.07142857 -23.92857143   4.        ]\n",
      "----------------------------------------\n",
      "\n",
      "wyniki aproksymacji funkcja wbudowanym\n",
      "[  4.         -23.92857143   9.07142857  60.4       ]\n",
      "----------------------------------------\n"
     ]
    }
   ],
   "source": [
    "import numpy as np\n",
    "import matplotlib.pyplot as plt\n",
    "import scipy.linalg \n",
    "\n",
    "x = [1,2,3,4,5]\n",
    "y = [52,5,-5,-40,10]\n",
    "xj = [0 for j in range(7)]\n",
    "A = np.array([[0]*4 for x in range (4)])\n",
    "B = [0 for b in range (4)]\n",
    "\n",
    "iksy = []\n",
    "igreki = []\n",
    "\n",
    "plt.title('Wykres pomiarów') \n",
    "plt.scatter(x, y) \n",
    "plt.xlabel('x')\n",
    "plt.ylabel('y')\n",
    "plt.show()\n",
    "\n",
    "for j in range (7):\n",
    "    xj[j] = sum([ pow(x[i], j) for i in range(len(x))])\n",
    "\n",
    "for a in range (4):\n",
    "    for aa in range (4):\n",
    "        A[a][aa] = xj[a+aa]\n",
    "        \n",
    "\n",
    "for b in range (4):\n",
    "    B[b] = sum([ (pow(x[i], b))*y[i] for i in range(len(y))])\n",
    "\n",
    "\n",
    "a = np.linalg.solve(A,B)\n",
    "\n",
    "iksy.append([x * 0.1 for x in range(0, 50)])\n",
    "for ii in range(50):\n",
    "    igreki.append(((ii*0.1)**3)*a[3]+((ii*0.1)**2)*a[2]+(ii*0.1)*a[1]+a[0])\n",
    "\n",
    "\n",
    "\n",
    "plt.title('Wykres aproksymacji') \n",
    "plt.scatter(iksy, igreki) \n",
    "plt.xlabel('x')\n",
    "plt.ylabel('y')\n",
    "plt.show()\n",
    "\n",
    "\n",
    "print(\"Mcierz A:\")\n",
    "print(A)\n",
    "print(\"----------------------------------------\")\n",
    "print(\"Mcierz B:\")\n",
    "print(B)\n",
    "print(\"----------------------------------------\")\n",
    "print(\"wynik aproksymacji kodem własnym:\")\n",
    "print(a)\n",
    "print(\"----------------------------------------\")\n",
    "\n",
    "print()\n",
    "print(\"wyniki aproksymacji funkcja wbudowanym\")\n",
    "print(np.polyfit(x,y,3))\n",
    "print(\"----------------------------------------\")\n"
   ]
  },
  {
   "cell_type": "code",
   "execution_count": null,
   "metadata": {},
   "outputs": [],
   "source": []
  },
  {
   "cell_type": "code",
   "execution_count": null,
   "metadata": {},
   "outputs": [],
   "source": []
  }
 ],
 "metadata": {
  "kernelspec": {
   "display_name": "Python 3",
   "language": "python",
   "name": "python3"
  },
  "language_info": {
   "codemirror_mode": {
    "name": "ipython",
    "version": 3
   },
   "file_extension": ".py",
   "mimetype": "text/x-python",
   "name": "python",
   "nbconvert_exporter": "python",
   "pygments_lexer": "ipython3",
   "version": "3.7.6"
  }
 },
 "nbformat": 4,
 "nbformat_minor": 4
}
