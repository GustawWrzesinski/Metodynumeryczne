{
 "cells": [
  {
   "cell_type": "code",
   "execution_count": 6,
   "metadata": {},
   "outputs": [
    {
     "name": "stdout",
     "output_type": "stream",
     "text": [
      "Macierz wejsciowa:\n",
      "[[ 6  5 -5]\n",
      " [ 2  6 -2]\n",
      " [ 2  5 -1]]\n"
     ]
    },
    {
     "data": {
      "image/png": "[encoded data removed]",
      "text/plain": [
       "<Figure size 432x288 with 1 Axes>"
      ]
     },
     "metadata": {
      "needs_background": "light"
     },
     "output_type": "display_data"
    },
    {
     "name": "stdout",
     "output_type": "stream",
     "text": [
      "Wektor wlasny:\n",
      "[[-0.57735027]\n",
      " [-0.57735027]\n",
      " [-0.57735027]]\n",
      "\n",
      "Najwieksza wartosc wlasna:\n",
      "9.303074157580912\n",
      "\n",
      "Posortowane wartosci wlasne:\n",
      "[0.6424783539200117, 6.0000000000000195, 6.000000000000028, 6.000000000000045, 6.0000000000000675, 6.0000000000001, 6.000000000000151, 6.000000000000228, 6.000000000000343, 6.000000000000512, 6.0000000000007665, 6.000000000001152, 6.0000000000017275, 6.00000000000259, 6.0000000000038884, 6.000000000005831, 6.000000000008748, 6.000000000013122, 6.000000000019682, 6.000000000029523, 6.0000000000442855, 6.000000000066427, 6.00000000009964, 6.000000000149459, 6.00000000022419, 6.000000000336281, 6.000000000504426, 6.0000000007566365, 6.000000001134954, 6.00000000170243, 6.000000002553645, 6.000000003830468, 6.000000005745702, 6.000000008618554, 6.00000001292783, 6.000000019391745, 6.0000000290876185, 6.000000043631426, 6.000000065447139, 6.000000098170709, 6.000000147256068, 6.000000220884105, 6.000000331326167, 6.000000496989277, 6.000000745483972, 6.00000111822608, 6.000001677339392, 6.0000025160097055, 6.000003774015939, 6.000005661027026, 6.000008491547546, 6.000012737337097, 6.000019106041134, 6.0000286591415515, 6.000042988891992, 6.0000644837422294, 6.000096726522881, 6.000145091830754, 6.00021764235051, 6.000326473885301, 6.000489734135852, 6.000734653642978, 6.001102098440632, 6.001653413066713, 6.002480716626485, 6.003722417791702, 6.005586646584564, 6.008386759676468, 6.012595400852665, 6.018927393107954, 6.028468134305859, 6.042875454678343, 6.0647044739014655, 6.097953750662342, 6.149082152984621, 6.229439144794419, 6.364305896345682, 6.645243766964894, 7.663808082673559, 9.303074157580912]\n",
      "\n",
      "\n",
      "                         Funkcja wbudowana ,,eig'':\n",
      "----------------------------------------------------------------------\n",
      "(array([6., 4., 1.]), array([[-5.77350269e-01,  1.47427139e-15,  7.07106781e-01],\n",
      "       [-5.77350269e-01,  7.07106781e-01, -1.11022302e-16],\n",
      "       [-5.77350269e-01,  7.07106781e-01,  7.07106781e-01]]))\n"
     ]
    }
   ],
   "source": [
    "import numpy as np\n",
    "import math\n",
    "import matplotlib.pyplot as plt \n",
    "\n",
    "m = np.array([[6,5,-5],\n",
    "              [2,6,-2],\n",
    "              [2,5,-1]])\n",
    "\n",
    "iksy = []\n",
    "igreki = []\n",
    "maciorki = []\n",
    "y= np.random.random((3,1))\n",
    "\n",
    "y0 = math.fabs(np.linalg.norm(y))\n",
    "\n",
    "y1 = y/y0\n",
    "x = 0\n",
    "\n",
    "while x < 80:\n",
    "    wynik = m@y1\n",
    "    y2 = math.fabs(np.linalg.norm(wynik))\n",
    "    y1 = wynik/y2\n",
    "    iksy.append(x)\n",
    "    igreki.append(y2)\n",
    "    maciorki.append(y1)\n",
    "    x += 1\n",
    "    \n",
    "plt.title('Wykres') \n",
    "plt.plot(iksy, igreki) \n",
    "plt.xlabel('Liczba dokonanych iteracji')\n",
    "plt.ylabel('Wartosci wlasne macierzy')\n",
    "print(\"Macierz wejsciowa:\")\n",
    "print(m)\n",
    "plt.show()\n",
    "igrekis = sorted(igreki)\n",
    "\n",
    "print(\"Wektor wlasny:\")\n",
    "print(maciorki.pop())\n",
    "print()\n",
    "print(\"Najwieksza wartosc wlasna:\")\n",
    "print(igrekis[-1])\n",
    "print()\n",
    "print(\"Posortowane wartosci wlasne:\")\n",
    "print(sorted(igreki))\n",
    "print()\n",
    "print()\n",
    "print(\"                         Funkcja wbudowana ,,eig'':\")\n",
    "print(\"----------------------------------------------------------------------\")\n",
    "print(np.linalg.eig(m))"
   ]
  },
  {
   "cell_type": "code",
   "execution_count": null,
   "metadata": {},
   "outputs": [],
   "source": []
  },
  {
   "cell_type": "code",
   "execution_count": null,
   "metadata": {},
   "outputs": [],
   "source": []
  }
 ],
 "metadata": {
  "kernelspec": {
   "display_name": "Python 3",
   "language": "python",
   "name": "python3"
  },
  "language_info": {
   "codemirror_mode": {
    "name": "ipython",
    "version": 3
   },
   "file_extension": ".py",
   "mimetype": "text/x-python",
   "name": "python",
   "nbconvert_exporter": "python",
   "pygments_lexer": "ipython3",
   "version": "3.7.6"
  }
 },
 "nbformat": 4,
 "nbformat_minor": 4
}
